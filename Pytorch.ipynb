{
 "cells": [
  {
   "cell_type": "code",
   "execution_count": 1,
   "id": "07a62c70",
   "metadata": {},
   "outputs": [],
   "source": [
    "import numpy as np\n",
    "import pandas as pd\n",
    "import torch\n",
    "import torch.nn\n",
    "import torchmetrics\n",
    "import sklearn\n",
    "from sklearn.model_selection import *\n",
    "from sklearn.metrics import *"
   ]
  },
  {
   "cell_type": "code",
   "execution_count": 2,
   "id": "cad9e669",
   "metadata": {},
   "outputs": [],
   "source": [
    "import warnings\n",
    "warnings.filterwarnings('ignore')"
   ]
  },
  {
   "cell_type": "code",
   "execution_count": 3,
   "id": "3efa9aff",
   "metadata": {},
   "outputs": [],
   "source": [
    "device = torch.device('cpu')"
   ]
  },
  {
   "cell_type": "code",
   "execution_count": 4,
   "id": "0d54a7a8",
   "metadata": {},
   "outputs": [
    {
     "data": {
      "text/plain": [
       "device(type='cpu')"
      ]
     },
     "execution_count": 4,
     "metadata": {},
     "output_type": "execute_result"
    }
   ],
   "source": [
    "device"
   ]
  },
  {
   "cell_type": "code",
   "execution_count": 5,
   "id": "786e98de",
   "metadata": {},
   "outputs": [],
   "source": [
    "dataset = pd.read_csv('creditcard.csv')"
   ]
  },
  {
   "cell_type": "code",
   "execution_count": 6,
   "id": "9bf1b7b6",
   "metadata": {},
   "outputs": [],
   "source": [
    "X = dataset.iloc[:,:-1]\n",
    "Y = dataset.iloc[:,-1]"
   ]
  },
  {
   "cell_type": "code",
   "execution_count": 7,
   "id": "65da2b0b",
   "metadata": {},
   "outputs": [
    {
     "data": {
      "text/plain": [
       "tensor([  0.5009, 289.4380])"
      ]
     },
     "execution_count": 7,
     "metadata": {},
     "output_type": "execute_result"
    }
   ],
   "source": [
    "class_weights=sklearn.utils.class_weight.compute_class_weight(class_weight='balanced',classes=np.unique(Y),y=Y)\n",
    "class_weights=torch.tensor(class_weights,dtype=torch.float32)\n",
    "class_weights"
   ]
  },
  {
   "cell_type": "code",
   "execution_count": 8,
   "id": "0f67add6",
   "metadata": {},
   "outputs": [],
   "source": [
    "X_train, X_test, y_train, y_test = train_test_split(X,Y,test_size=0.2,random_state=1,stratify=Y)"
   ]
  },
  {
   "cell_type": "code",
   "execution_count": 9,
   "id": "dbce1650",
   "metadata": {},
   "outputs": [],
   "source": [
    "X_train_torch = torch.tensor(X_train.values).float()\n",
    "X_test_torch = torch.tensor(X_test.values).float()\n",
    "Y_train_torch = torch.tensor(y_train.values).long()\n",
    "Y_test_torch = torch.tensor(y_test.values).long()"
   ]
  },
  {
   "cell_type": "code",
   "execution_count": 10,
   "id": "8794c23e",
   "metadata": {},
   "outputs": [],
   "source": [
    "train_data = torch.utils.data.TensorDataset(X_train_torch,Y_train_torch)\n",
    "test_data = torch.utils.data.TensorDataset(X_test_torch,Y_test_torch)"
   ]
  },
  {
   "cell_type": "code",
   "execution_count": 11,
   "id": "a0952e1e",
   "metadata": {},
   "outputs": [],
   "source": [
    "train_loader = torch.utils.data.DataLoader(train_data,batch_size=16,shuffle=True)\n",
    "test_loader = torch.utils.data.DataLoader(test_data,batch_size=16,shuffle=True)"
   ]
  },
  {
   "cell_type": "code",
   "execution_count": 12,
   "id": "fce9ddbc",
   "metadata": {},
   "outputs": [],
   "source": [
    "class DNN(torch.nn.Module):\n",
    "    def __init__(self,n_inputs):\n",
    "        super(DNN,self).__init__()\n",
    "        self.hidden1 = torch.nn.Linear(n_inputs,100)\n",
    "        torch.nn.init.kaiming_normal_(self.hidden1.weight)\n",
    "        self.norm1 = torch.nn.BatchNorm1d(100)\n",
    "        self.hidden2 = torch.nn.Linear(100,150)\n",
    "        torch.nn.init.kaiming_normal_(self.hidden2.weight)\n",
    "        self.norm2 = torch.nn.BatchNorm1d(150)\n",
    "        self.hidden3 = torch.nn.Linear(150,80)\n",
    "        torch.nn.init.kaiming_normal_(self.hidden3.weight)\n",
    "        \n",
    "    def forward(self, X):\n",
    "        X = self.hidden1(X)\n",
    "        X = torch.nn.functional.selu(self.norm1(X))\n",
    "        X = self.hidden2(X)\n",
    "        X = torch.nn.functional.selu(self.norm2(X))\n",
    "        X = self.hidden3(X)\n",
    "        X = torch.nn.functional.logsigmoid(X)\n",
    "        return X"
   ]
  },
  {
   "cell_type": "code",
   "execution_count": 13,
   "id": "71d7150c",
   "metadata": {},
   "outputs": [],
   "source": [
    "model = DNN(len(X_train.columns)).to(device)"
   ]
  },
  {
   "cell_type": "code",
   "execution_count": 14,
   "id": "970a5eef",
   "metadata": {},
   "outputs": [
    {
     "data": {
      "text/plain": [
       "DNN(\n",
       "  (hidden1): Linear(in_features=30, out_features=100, bias=True)\n",
       "  (norm1): BatchNorm1d(100, eps=1e-05, momentum=0.1, affine=True, track_running_stats=True)\n",
       "  (hidden2): Linear(in_features=100, out_features=150, bias=True)\n",
       "  (norm2): BatchNorm1d(150, eps=1e-05, momentum=0.1, affine=True, track_running_stats=True)\n",
       "  (hidden3): Linear(in_features=150, out_features=80, bias=True)\n",
       ")"
      ]
     },
     "execution_count": 14,
     "metadata": {},
     "output_type": "execute_result"
    }
   ],
   "source": [
    "model"
   ]
  },
  {
   "cell_type": "code",
   "execution_count": 15,
   "id": "c77acffb",
   "metadata": {},
   "outputs": [],
   "source": [
    "def model_summary(model):\n",
    "    model_params_list = list(model.named_parameters())\n",
    "    print(\"----------------------------------------------------------------\")\n",
    "    line_new = \"{:>20}  {:>25} {:>15}\".format(\"Layer.Parameter\", \"Param Tensor Shape\", \"Param #\")\n",
    "    print(line_new)\n",
    "    print(\"----------------------------------------------------------------\")\n",
    "    for elem in model_params_list:\n",
    "        p_name = elem[0] \n",
    "        p_shape = list(elem[1].size())\n",
    "        p_count = torch.tensor(elem[1].size()).prod().item()\n",
    "        line_new = \"{:>20}  {:>25} {:>15}\".format(p_name, str(p_shape), str(p_count))\n",
    "        print(line_new)\n",
    "    print(\"----------------------------------------------------------------\")\n",
    "    total_params = sum([param.nelement() for param in model.parameters()])\n",
    "    print(\"Total params:\", total_params)\n",
    "    num_trainable_params = sum(p.numel() for p in model.parameters() if p.requires_grad)\n",
    "    print(\"Trainable params:\", num_trainable_params)\n",
    "    print(\"Non-trainable params:\", total_params - num_trainable_params)\n",
    "    return"
   ]
  },
  {
   "cell_type": "code",
   "execution_count": 16,
   "id": "ca353f9c",
   "metadata": {},
   "outputs": [
    {
     "name": "stdout",
     "output_type": "stream",
     "text": [
      "----------------------------------------------------------------\n",
      "     Layer.Parameter         Param Tensor Shape         Param #\n",
      "----------------------------------------------------------------\n",
      "      hidden1.weight                  [100, 30]            3000\n",
      "        hidden1.bias                      [100]             100\n",
      "        norm1.weight                      [100]             100\n",
      "          norm1.bias                      [100]             100\n",
      "      hidden2.weight                 [150, 100]           15000\n",
      "        hidden2.bias                      [150]             150\n",
      "        norm2.weight                      [150]             150\n",
      "          norm2.bias                      [150]             150\n",
      "      hidden3.weight                  [80, 150]           12000\n",
      "        hidden3.bias                       [80]              80\n",
      "----------------------------------------------------------------\n",
      "Total params: 30830\n",
      "Trainable params: 30830\n",
      "Non-trainable params: 0\n"
     ]
    }
   ],
   "source": [
    "model_summary(model)"
   ]
  },
  {
   "cell_type": "code",
   "execution_count": 17,
   "id": "d35e407c",
   "metadata": {},
   "outputs": [],
   "source": [
    "criterion = torch.nn.CrossEntropyLoss()\n",
    "optimizer = torch.optim.Adam(model.parameters(),lr=0.003)"
   ]
  },
  {
   "cell_type": "code",
   "execution_count": 18,
   "id": "3cd00023",
   "metadata": {
    "scrolled": true
   },
   "outputs": [
    {
     "name": "stdout",
     "output_type": "stream",
     "text": [
      "--------------------------------------------------------------------------------------------------------------\n",
      "Epoch: 1, Loss train: 0.0330, Loss test: 0.0060, Accuracy: 0.9986, Precision: 0.9986, Recall: 0.9986\n",
      "--------------------------------------------------------------------------------------------------------------\n",
      "Epoch: 2, Loss train: 0.0060, Loss test: 0.0231, Accuracy: 0.9992, Precision: 0.9992, Recall: 0.9992\n",
      "--------------------------------------------------------------------------------------------------------------\n",
      "Epoch: 3, Loss train: 0.0054, Loss test: 0.0036, Accuracy: 0.9993, Precision: 0.9993, Recall: 0.9993\n",
      "--------------------------------------------------------------------------------------------------------------\n",
      "Epoch: 4, Loss train: 0.0050, Loss test: 0.0036, Accuracy: 0.9987, Precision: 0.9987, Recall: 0.9987\n",
      "--------------------------------------------------------------------------------------------------------------\n",
      "Epoch: 5, Loss train: 0.0049, Loss test: 0.0561, Accuracy: 0.9990, Precision: 0.9990, Recall: 0.9990\n",
      "--------------------------------------------------------------------------------------------------------------\n",
      "Epoch: 6, Loss train: 0.0047, Loss test: 0.0028, Accuracy: 0.9993, Precision: 0.9993, Recall: 0.9993\n",
      "--------------------------------------------------------------------------------------------------------------\n",
      "Epoch: 7, Loss train: 0.0047, Loss test: 0.0028, Accuracy: 0.9995, Precision: 0.9995, Recall: 0.9995\n",
      "--------------------------------------------------------------------------------------------------------------\n",
      "Epoch: 8, Loss train: 0.0044, Loss test: 0.0034, Accuracy: 0.9992, Precision: 0.9992, Recall: 0.9992\n",
      "--------------------------------------------------------------------------------------------------------------\n",
      "Epoch: 9, Loss train: 0.0045, Loss test: 0.0034, Accuracy: 0.9995, Precision: 0.9995, Recall: 0.9995\n",
      "--------------------------------------------------------------------------------------------------------------\n"
     ]
    }
   ],
   "source": [
    "print('--------------------------------------------------------------------------------------------------------------')\n",
    "\n",
    "for epoch in range(1,10):\n",
    "    \n",
    "    model.train()\n",
    "    running_loss = 0\n",
    "    for i, (inputs_train,targets_train) in enumerate(train_loader):\n",
    "        optimizer.zero_grad()\n",
    "        yhat_train = model.forward(inputs_train)\n",
    "        loss_train = criterion(yhat_train,targets_train)\n",
    "        loss_train.backward()\n",
    "        optimizer.step()\n",
    "        running_loss += loss_train\n",
    "    \n",
    "    model.eval()\n",
    "    yhat_test = model(X_test_torch)\n",
    "    actuals = Y_test_torch\n",
    "    loss_test = criterion(yhat_test,actuals)\n",
    "    _, yhat_test = torch.max(yhat_test,1)\n",
    "                \n",
    "    accuracy = torchmetrics.functional.accuracy(actuals,yhat_test)\n",
    "    precision = torchmetrics.functional.precision(actuals,yhat_test)\n",
    "    recall = torchmetrics.functional.recall(actuals,yhat_test)\n",
    "    print('Epoch: {}, Loss train: {:.4f}, Loss test: {:.4f}, Accuracy: {:.4f}, Precision: {:.4f}, Recall: {:.4f}'.format(\n",
    "            epoch,running_loss/len(train_loader),loss_test,accuracy,precision,recall))\n",
    "    print('--------------------------------------------------------------------------------------------------------------')"
   ]
  },
  {
   "cell_type": "code",
   "execution_count": 19,
   "id": "5c4d1a66",
   "metadata": {},
   "outputs": [
    {
     "name": "stdout",
     "output_type": "stream",
     "text": [
      "[[56855     9]\n",
      " [   21    77]]\n"
     ]
    }
   ],
   "source": [
    "print(confusion_matrix(actuals,yhat_test))"
   ]
  },
  {
   "cell_type": "code",
   "execution_count": 20,
   "id": "3d4f311e",
   "metadata": {},
   "outputs": [
    {
     "name": "stdout",
     "output_type": "stream",
     "text": [
      "              precision    recall  f1-score   support\n",
      "\n",
      "           0       1.00      1.00      1.00     56864\n",
      "           1       0.90      0.79      0.84        98\n",
      "\n",
      "    accuracy                           1.00     56962\n",
      "   macro avg       0.95      0.89      0.92     56962\n",
      "weighted avg       1.00      1.00      1.00     56962\n",
      "\n"
     ]
    }
   ],
   "source": [
    "print(classification_report(actuals,yhat_test))"
   ]
  },
  {
   "cell_type": "code",
   "execution_count": null,
   "id": "85e28120",
   "metadata": {},
   "outputs": [],
   "source": []
  }
 ],
 "metadata": {
  "kernelspec": {
   "display_name": "Python 3",
   "language": "python",
   "name": "python3"
  },
  "language_info": {
   "codemirror_mode": {
    "name": "ipython",
    "version": 3
   },
   "file_extension": ".py",
   "mimetype": "text/x-python",
   "name": "python",
   "nbconvert_exporter": "python",
   "pygments_lexer": "ipython3",
   "version": "3.8.8"
  }
 },
 "nbformat": 4,
 "nbformat_minor": 5
}
